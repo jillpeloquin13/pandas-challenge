{
 "cells": [
  {
   "cell_type": "code",
   "execution_count": 9,
   "id": "5f8f8cc1",
   "metadata": {},
   "outputs": [],
   "source": [
    "# Import Dependencies\n",
    "import pandas as pd"
   ]
  },
  {
   "cell_type": "code",
   "execution_count": 10,
   "id": "0a2099a7",
   "metadata": {},
   "outputs": [
    {
     "data": {
      "text/html": [
       "<div>\n",
       "<style scoped>\n",
       "    .dataframe tbody tr th:only-of-type {\n",
       "        vertical-align: middle;\n",
       "    }\n",
       "\n",
       "    .dataframe tbody tr th {\n",
       "        vertical-align: top;\n",
       "    }\n",
       "\n",
       "    .dataframe thead th {\n",
       "        text-align: right;\n",
       "    }\n",
       "</style>\n",
       "<table border=\"1\" class=\"dataframe\">\n",
       "  <thead>\n",
       "    <tr style=\"text-align: right;\">\n",
       "      <th></th>\n",
       "      <th>Purchase ID</th>\n",
       "      <th>SN</th>\n",
       "      <th>Age</th>\n",
       "      <th>Gender</th>\n",
       "      <th>Item ID</th>\n",
       "      <th>Item Name</th>\n",
       "      <th>Price</th>\n",
       "    </tr>\n",
       "  </thead>\n",
       "  <tbody>\n",
       "    <tr>\n",
       "      <th>0</th>\n",
       "      <td>0</td>\n",
       "      <td>Lisim78</td>\n",
       "      <td>20</td>\n",
       "      <td>Male</td>\n",
       "      <td>108</td>\n",
       "      <td>Extraction, Quickblade Of Trembling Hands</td>\n",
       "      <td>3.53</td>\n",
       "    </tr>\n",
       "    <tr>\n",
       "      <th>1</th>\n",
       "      <td>1</td>\n",
       "      <td>Lisovynya38</td>\n",
       "      <td>40</td>\n",
       "      <td>Male</td>\n",
       "      <td>143</td>\n",
       "      <td>Frenzied Scimitar</td>\n",
       "      <td>1.56</td>\n",
       "    </tr>\n",
       "    <tr>\n",
       "      <th>2</th>\n",
       "      <td>2</td>\n",
       "      <td>Ithergue48</td>\n",
       "      <td>24</td>\n",
       "      <td>Male</td>\n",
       "      <td>92</td>\n",
       "      <td>Final Critic</td>\n",
       "      <td>4.88</td>\n",
       "    </tr>\n",
       "    <tr>\n",
       "      <th>3</th>\n",
       "      <td>3</td>\n",
       "      <td>Chamassasya86</td>\n",
       "      <td>24</td>\n",
       "      <td>Male</td>\n",
       "      <td>100</td>\n",
       "      <td>Blindscythe</td>\n",
       "      <td>3.27</td>\n",
       "    </tr>\n",
       "    <tr>\n",
       "      <th>4</th>\n",
       "      <td>4</td>\n",
       "      <td>Iskosia90</td>\n",
       "      <td>23</td>\n",
       "      <td>Male</td>\n",
       "      <td>131</td>\n",
       "      <td>Fury</td>\n",
       "      <td>1.44</td>\n",
       "    </tr>\n",
       "  </tbody>\n",
       "</table>\n",
       "</div>"
      ],
      "text/plain": [
       "   Purchase ID             SN  Age Gender  Item ID  \\\n",
       "0            0        Lisim78   20   Male      108   \n",
       "1            1    Lisovynya38   40   Male      143   \n",
       "2            2     Ithergue48   24   Male       92   \n",
       "3            3  Chamassasya86   24   Male      100   \n",
       "4            4      Iskosia90   23   Male      131   \n",
       "\n",
       "                                   Item Name  Price  \n",
       "0  Extraction, Quickblade Of Trembling Hands   3.53  \n",
       "1                          Frenzied Scimitar   1.56  \n",
       "2                               Final Critic   4.88  \n",
       "3                                Blindscythe   3.27  \n",
       "4                                       Fury   1.44  "
      ]
     },
     "execution_count": 10,
     "metadata": {},
     "output_type": "execute_result"
    }
   ],
   "source": [
    "csv_path = \"Resources/02-Homework_04-Pandas_Instructions_HeroesOfPymoli_Resources_purchase_data.csv\"\n",
    "\n",
    "# Read the CSV into a Pandas DataFrame\n",
    "df = pd.read_csv(csv_path)\n",
    "\n",
    "# Print the first five rows of data to the screen\n",
    "df.head()"
   ]
  },
  {
   "cell_type": "code",
   "execution_count": 11,
   "id": "ce587bd9",
   "metadata": {},
   "outputs": [
    {
     "name": "stdout",
     "output_type": "stream",
     "text": [
      "Total Unique Players: 576\n",
      "Total Players: 780\n"
     ]
    }
   ],
   "source": [
    "n = len(pd.unique(df['SN']))\n",
    "print(\"Total Unique Players:\", n)\n",
    "m = len((df['SN']))\n",
    "print(\"Total Players:\", m)"
   ]
  },
  {
   "cell_type": "code",
   "execution_count": 12,
   "id": "916bacea",
   "metadata": {},
   "outputs": [],
   "source": [
    "unique_items = len(pd.unique(df['Item Name']))\n",
    "mean_price = df[\"Price\"].mean()\n",
    "total_purc = len((df['Purchase ID']))\n",
    "total_rev = df[\"Price\"].sum()"
   ]
  },
  {
   "cell_type": "code",
   "execution_count": 13,
   "id": "323b8b43",
   "metadata": {},
   "outputs": [
    {
     "name": "stdout",
     "output_type": "stream",
     "text": [
      "   Number of Unique Items Average Price  Number of Purchases Total Revenue\n",
      "0                     179         $3.05                  780     $2,379.77\n"
     ]
    }
   ],
   "source": [
    "Summary_table = {\n",
    "                 \"Number of Unique Items\":[unique_items], \n",
    "                 \"Average Price\": [mean_price], \n",
    "                 \"Number of Purchases\": [total_purc], \n",
    "                 \"Total Revenue\":[total_rev]\n",
    "                }\n",
    "Summary_table_df = pd.DataFrame(Summary_table)\n",
    "Summary_table_df['Average Price'] = Summary_table_df['Average Price'].map('${:,.2f}'.format)\n",
    "Summary_table_df['Total Revenue'] = Summary_table_df['Total Revenue'].map('${:,.2f}'.format)\n",
    "print(Summary_table_df)"
   ]
  },
  {
   "cell_type": "code",
   "execution_count": 14,
   "id": "080b5d18",
   "metadata": {},
   "outputs": [
    {
     "name": "stdout",
     "output_type": "stream",
     "text": [
      "                       Total Count Percentage of Players\n",
      "Male                           484                84.03%\n",
      "Female                          81                14.06%\n",
      "Other / Non-Disclosed           11                 1.91%\n"
     ]
    }
   ],
   "source": [
    "gendergroup_df = df.drop_duplicates(subset=['SN'])\n",
    "gendergroup_df\n",
    "\n",
    "gender_counts = gendergroup_df[\"Gender\"].value_counts()\n",
    "PercentageCounts = (gender_counts / n)\n",
    "PercentageCounts_df = {\n",
    "                        \"Total Count\": gender_counts, \n",
    "                         \"Percentage of Players\": PercentageCounts\n",
    "                      }\n",
    "PercentageCounts_df= pd.DataFrame(PercentageCounts_df)\n",
    "PercentageCounts_df['Percentage of Players'] = PercentageCounts_df['Percentage of Players'].map(\"{:.2%}\".format)\n",
    "print(PercentageCounts_df)"
   ]
  },
  {
   "cell_type": "code",
   "execution_count": 52,
   "id": "33788516",
   "metadata": {},
   "outputs": [
    {
     "name": "stdout",
     "output_type": "stream",
     "text": [
      "                       Purchase Count Average Purchase Price  \\\n",
      "Female                            113                  $3.20   \n",
      "Male                              652                  $3.02   \n",
      "Other / Non-Disclosed              15                  $3.35   \n",
      "\n",
      "                      Total Purchase Value Avg Total Purchase per Person  \n",
      "Female                             $361.94                         $4.47  \n",
      "Male                             $1,967.64                         $4.07  \n",
      "Other / Non-Disclosed               $50.19                         $4.56  \n"
     ]
    }
   ],
   "source": [
    "#Run basic calculations to obtain purchase count, avg. purchase price, avg. purchase total per person etc. by gender\n",
    "#Create a summary data frame to hold the results\n",
    "#Optional: give the displayed data cleaner formatting\n",
    "#Display the summary data frame\n",
    "Gender_group = df.groupby(\"Gender\")\n",
    "Total_purchase_by_gender = Gender_group[\"Purchase ID\"].count()\n",
    "Average_PurchasePrice_by_gender = Gender_group[\"Price\"].mean()\n",
    "Total_Value_by_gender = Gender_group[\"Price\"].sum()\n",
    "Average_Purchase_by_person_by_gender = Total_Value_by_gender / gender_counts\n",
    "\n",
    "SummaryTable_df = {\"Purchase Count\":Total_purchase_by_gender, \n",
    "                   \"Average Purchase Price\":Average_PurchasePrice_by_gender,\n",
    "                   \"Total Purchase Value\":Total_Value_by_gender, \n",
    "                   \"Avg Total Purchase per Person\":Average_Purchase_by_person_by_gender}\n",
    "SummaryTable_df= pd.DataFrame(SummaryTable_df)\n",
    "SummaryTable_df['Average Purchase Price'] = SummaryTable_df['Average Purchase Price'].map('${:,.2f}'.format)\n",
    "SummaryTable_df['Total Purchase Value'] = SummaryTable_df['Total Purchase Value'].map('${:,.2f}'.format)\n",
    "SummaryTable_df['Avg Total Purchase per Person'] = SummaryTable_df['Avg Total Purchase per Person'].map('${:,.2f}'.format)\n",
    "print(SummaryTable_df)"
   ]
  },
  {
   "cell_type": "code",
   "execution_count": 54,
   "id": "962a373b",
   "metadata": {
    "scrolled": true
   },
   "outputs": [
    {
     "name": "stdout",
     "output_type": "stream",
     "text": [
      "         Total Count Percentage of Players\n",
      "Summary                                   \n",
      "<10               17                 2.95%\n",
      "10-14             22                 3.82%\n",
      "15-19            107                18.58%\n",
      "20-24            258                44.79%\n",
      "25-29             77                13.37%\n",
      "30-34             52                 9.03%\n",
      "35-39             31                 5.38%\n",
      "40+               12                 2.08%\n"
     ]
    },
    {
     "name": "stderr",
     "output_type": "stream",
     "text": [
      "C:\\Users\\jillp\\anaconda3\\envs\\PythonData\\lib\\site-packages\\ipykernel_launcher.py:9: SettingWithCopyWarning: \n",
      "A value is trying to be set on a copy of a slice from a DataFrame.\n",
      "Try using .loc[row_indexer,col_indexer] = value instead\n",
      "\n",
      "See the caveats in the documentation: https://pandas.pydata.org/pandas-docs/stable/user_guide/indexing.html#returning-a-view-versus-a-copy\n",
      "  if __name__ == '__main__':\n"
     ]
    }
   ],
   "source": [
    "#The below each broken into bins of 4 years (i.e. <10, 10-14, 15-19, etc.)\n",
    "#Purchase Count\n",
    "#Average Purchase Price\n",
    "#Total Purchase Value\n",
    "#Average Purchase Total per Person by Age Group\n",
    "bins = [0, 9, 14, 19, 24, 29, 34, 39, 120]\n",
    "group_names = [\"<10\", \"10-14\", \"15-19\", \"20-24\", \"25-29\", \"30-34\", \"35-39\", \"40+\"]\n",
    "agegroup_df = df.drop_duplicates(subset=['SN'])\n",
    "agegroup_df[\"Summary\"] = pd.cut(agegroup_df[\"Age\"], bins, labels=group_names, include_lowest=True)\n",
    "# Creating a group based off of the bins\n",
    "Age_group_df = agegroup_df.groupby(\"Summary\")\n",
    "\n",
    "# Find how many rows fall into each bin\n",
    "Total_Purchases_by_age = (Age_group_df[\"Purchase ID\"].count())\n",
    "Total_Purchases_by_age_per = Total_Purchases_by_age / n\n",
    "\n",
    "PurchasesbyBinnedAge = {\n",
    "                         \"Total Count\": Total_Purchases_by_age,\n",
    "                         \"Percentage of Players\": Total_Purchases_by_age_per\n",
    "                      }\n",
    "\n",
    "PurchasesbyBinnedAge_df= pd.DataFrame(PurchasesbyBinnedAge)\n",
    "PurchasesbyBinnedAge_df['Percentage of Players'] = PurchasesbyBinnedAge_df['Percentage of Players'].map(\"{:.2%}\".format)\n",
    "print(PurchasesbyBinnedAge_df)\n"
   ]
  },
  {
   "cell_type": "code",
   "execution_count": 74,
   "id": "f4080156",
   "metadata": {},
   "outputs": [
    {
     "name": "stdout",
     "output_type": "stream",
     "text": [
      "         Purchase Count Average Purchase Price Total Purchase Value  \\\n",
      "Summary                                                               \n",
      "<10                  23                  $3.35               $77.13   \n",
      "10-14                28                  $2.96               $82.78   \n",
      "15-19               136                  $3.04              $412.89   \n",
      "20-24               365                  $3.05            $1,114.06   \n",
      "25-29               101                  $2.90              $293.00   \n",
      "30-34                73                  $2.93              $214.00   \n",
      "35-39                41                  $3.60              $147.67   \n",
      "40+                  13                  $2.94               $38.24   \n",
      "\n",
      "        Avg Total Purchase per Person  \n",
      "Summary                                \n",
      "<10                             $4.54  \n",
      "10-14                           $3.76  \n",
      "15-19                           $3.86  \n",
      "20-24                           $4.32  \n",
      "25-29                           $3.81  \n",
      "30-34                           $4.12  \n",
      "35-39                           $4.76  \n",
      "40+                             $3.19  \n"
     ]
    }
   ],
   "source": [
    "#Bin the purchase_data data frame by age\n",
    "#Run basic calculations to obtain purchase count, avg. purchase price, avg. purchase total per person etc. in the table below\n",
    "bins = [0, 9, 14, 19, 24, 29, 34, 39, 120]\n",
    "group_names = [\"<10\", \"10-14\", \"15-19\", \"20-24\", \"25-29\", \"30-34\", \"35-39\", \"40+\"]\n",
    "\n",
    "df[\"Summary\"] = pd.cut(df[\"Age\"], bins, labels=group_names, include_lowest=True)\n",
    "# Creating a group based off of the bins\n",
    "Age_group_all_df = df.groupby(\"Summary\")\n",
    "\n",
    "Purchase_Count = Age_group_all_df[\"Purchase ID\"].count()\n",
    "Average_Purchase_Price = Age_group_all_df[\"Price\"].sum() / Purchase_Count\n",
    "Total_Purchase_Value = Age_group_all_df[\"Price\"].sum()\n",
    "Avg_Total_Purchase_per_Person = Total_Purchase_Value / Total_Purchases_by_age\n",
    "\n",
    "PurchasesbyBinnedAge_All = {\"Purchase Count\": Purchase_Count, \"Average Purchase Price\": Average_Purchase_Price, \"Total Purchase Value\": Total_Purchase_Value,\"Avg Total Purchase per Person\": Avg_Total_Purchase_per_Person}\n",
    "PurchasesbyBinnedAge_All= pd.DataFrame(PurchasesbyBinnedAge_All)\n",
    "\n",
    "PurchasesbyBinnedAge_All['Average Purchase Price'] = PurchasesbyBinnedAge_All['Average Purchase Price'].map('${:,.2f}'.format)\n",
    "PurchasesbyBinnedAge_All['Total Purchase Value'] = PurchasesbyBinnedAge_All['Total Purchase Value'].map('${:,.2f}'.format)\n",
    "PurchasesbyBinnedAge_All['Avg Total Purchase per Person'] = PurchasesbyBinnedAge_All['Avg Total Purchase per Person'].map('${:,.2f}'.format)\n",
    "\n",
    "\n",
    "\n",
    "\n",
    "\n",
    "print(PurchasesbyBinnedAge_All)\n"
   ]
  },
  {
   "cell_type": "code",
   "execution_count": 90,
   "id": "dde64973",
   "metadata": {},
   "outputs": [
    {
     "data": {
      "text/html": [
       "<div>\n",
       "<style scoped>\n",
       "    .dataframe tbody tr th:only-of-type {\n",
       "        vertical-align: middle;\n",
       "    }\n",
       "\n",
       "    .dataframe tbody tr th {\n",
       "        vertical-align: top;\n",
       "    }\n",
       "\n",
       "    .dataframe thead th {\n",
       "        text-align: right;\n",
       "    }\n",
       "</style>\n",
       "<table border=\"1\" class=\"dataframe\">\n",
       "  <thead>\n",
       "    <tr style=\"text-align: right;\">\n",
       "      <th></th>\n",
       "      <th>Purchase Price</th>\n",
       "      <th>Average Purchase Price</th>\n",
       "      <th>Total Purchase Value</th>\n",
       "    </tr>\n",
       "    <tr>\n",
       "      <th>SN</th>\n",
       "      <th></th>\n",
       "      <th></th>\n",
       "      <th></th>\n",
       "    </tr>\n",
       "  </thead>\n",
       "  <tbody>\n",
       "    <tr>\n",
       "      <th>Lisosia93</th>\n",
       "      <td>5</td>\n",
       "      <td>$3.79</td>\n",
       "      <td>$18.96</td>\n",
       "    </tr>\n",
       "    <tr>\n",
       "      <th>Idastidru52</th>\n",
       "      <td>4</td>\n",
       "      <td>$3.86</td>\n",
       "      <td>$15.45</td>\n",
       "    </tr>\n",
       "    <tr>\n",
       "      <th>Chamjask73</th>\n",
       "      <td>3</td>\n",
       "      <td>$4.61</td>\n",
       "      <td>$13.83</td>\n",
       "    </tr>\n",
       "    <tr>\n",
       "      <th>Iral74</th>\n",
       "      <td>4</td>\n",
       "      <td>$3.40</td>\n",
       "      <td>$13.62</td>\n",
       "    </tr>\n",
       "    <tr>\n",
       "      <th>Iskadarya95</th>\n",
       "      <td>3</td>\n",
       "      <td>$4.37</td>\n",
       "      <td>$13.10</td>\n",
       "    </tr>\n",
       "  </tbody>\n",
       "</table>\n",
       "</div>"
      ],
      "text/plain": [
       "             Purchase Price Average Purchase Price Total Purchase Value\n",
       "SN                                                                     \n",
       "Lisosia93                 5                  $3.79               $18.96\n",
       "Idastidru52               4                  $3.86               $15.45\n",
       "Chamjask73                3                  $4.61               $13.83\n",
       "Iral74                    4                  $3.40               $13.62\n",
       "Iskadarya95               3                  $4.37               $13.10"
      ]
     },
     "execution_count": 90,
     "metadata": {},
     "output_type": "execute_result"
    }
   ],
   "source": [
    "#Run basic calculations to obtain the results in the table below\n",
    "#Create a summary data frame to hold the results\n",
    "#Sort the total purchase value column in descending order\n",
    "Top_Spenders = df.groupby(\"SN\")\n",
    "\n",
    "Top_Spenders_purchase_Count = Top_Spenders[\"Purchase ID\"].count()\n",
    "Average_purchase_price = Top_Spenders[\"Price\"].mean()\n",
    "Total_purchase_value = Top_Spenders[\"Price\"].sum()\n",
    "\n",
    "PurchasesbyTop = {\"Purchase Price\": Top_Spenders_purchase_Count, \"Average Purchase Price\": Average_purchase_price, \"Total Purchase Value\": Total_purchase_value}\n",
    "PurchasesbyTop_df= pd.DataFrame(PurchasesbyTop)\n",
    "PurchasesbyTop_df = PurchasesbyTop_df.sort_values(\"Total Purchase Value\", ascending=False)\n",
    "\n",
    "PurchasesbyTop_df['Average Purchase Price'] = PurchasesbyTop_df['Average Purchase Price'].map('${:,.2f}'.format)\n",
    "PurchasesbyTop_df['Total Purchase Value'] = PurchasesbyTop_df['Total Purchase Value'].map('${:,.2f}'.format)\n",
    "\n",
    "PurchasesbyTop_df.head(5)"
   ]
  },
  {
   "cell_type": "code",
   "execution_count": null,
   "id": "21d45476",
   "metadata": {},
   "outputs": [],
   "source": [
    "Retrieve the Item ID, Item Name, and Item Price columns\n",
    "Group by Item ID and Item Name. Perform calculations to obtain purchase count, average item price, and total purchase value\n",
    "Create a summary data frame to hold the results\n",
    "Sort the purchase count column in descending order\n"
   ]
  }
 ],
 "metadata": {
  "kernelspec": {
   "display_name": "Python 3",
   "language": "python",
   "name": "python3"
  },
  "language_info": {
   "codemirror_mode": {
    "name": "ipython",
    "version": 3
   },
   "file_extension": ".py",
   "mimetype": "text/x-python",
   "name": "python",
   "nbconvert_exporter": "python",
   "pygments_lexer": "ipython3",
   "version": "3.7.10"
  }
 },
 "nbformat": 4,
 "nbformat_minor": 5
}
