{
 "cells": [
  {
   "cell_type": "code",
   "execution_count": 4,
   "id": "5f8f8cc1",
   "metadata": {},
   "outputs": [],
   "source": [
    "# Import Dependencies\n",
    "import pandas as pd"
   ]
  },
  {
   "cell_type": "code",
   "execution_count": 5,
   "id": "0a2099a7",
   "metadata": {},
   "outputs": [
    {
     "data": {
      "text/html": [
       "<div>\n",
       "<style scoped>\n",
       "    .dataframe tbody tr th:only-of-type {\n",
       "        vertical-align: middle;\n",
       "    }\n",
       "\n",
       "    .dataframe tbody tr th {\n",
       "        vertical-align: top;\n",
       "    }\n",
       "\n",
       "    .dataframe thead th {\n",
       "        text-align: right;\n",
       "    }\n",
       "</style>\n",
       "<table border=\"1\" class=\"dataframe\">\n",
       "  <thead>\n",
       "    <tr style=\"text-align: right;\">\n",
       "      <th></th>\n",
       "      <th>Purchase ID</th>\n",
       "      <th>SN</th>\n",
       "      <th>Age</th>\n",
       "      <th>Gender</th>\n",
       "      <th>Item ID</th>\n",
       "      <th>Item Name</th>\n",
       "      <th>Price</th>\n",
       "    </tr>\n",
       "  </thead>\n",
       "  <tbody>\n",
       "    <tr>\n",
       "      <th>0</th>\n",
       "      <td>0</td>\n",
       "      <td>Lisim78</td>\n",
       "      <td>20</td>\n",
       "      <td>Male</td>\n",
       "      <td>108</td>\n",
       "      <td>Extraction, Quickblade Of Trembling Hands</td>\n",
       "      <td>3.53</td>\n",
       "    </tr>\n",
       "    <tr>\n",
       "      <th>1</th>\n",
       "      <td>1</td>\n",
       "      <td>Lisovynya38</td>\n",
       "      <td>40</td>\n",
       "      <td>Male</td>\n",
       "      <td>143</td>\n",
       "      <td>Frenzied Scimitar</td>\n",
       "      <td>1.56</td>\n",
       "    </tr>\n",
       "    <tr>\n",
       "      <th>2</th>\n",
       "      <td>2</td>\n",
       "      <td>Ithergue48</td>\n",
       "      <td>24</td>\n",
       "      <td>Male</td>\n",
       "      <td>92</td>\n",
       "      <td>Final Critic</td>\n",
       "      <td>4.88</td>\n",
       "    </tr>\n",
       "    <tr>\n",
       "      <th>3</th>\n",
       "      <td>3</td>\n",
       "      <td>Chamassasya86</td>\n",
       "      <td>24</td>\n",
       "      <td>Male</td>\n",
       "      <td>100</td>\n",
       "      <td>Blindscythe</td>\n",
       "      <td>3.27</td>\n",
       "    </tr>\n",
       "    <tr>\n",
       "      <th>4</th>\n",
       "      <td>4</td>\n",
       "      <td>Iskosia90</td>\n",
       "      <td>23</td>\n",
       "      <td>Male</td>\n",
       "      <td>131</td>\n",
       "      <td>Fury</td>\n",
       "      <td>1.44</td>\n",
       "    </tr>\n",
       "  </tbody>\n",
       "</table>\n",
       "</div>"
      ],
      "text/plain": [
       "   Purchase ID             SN  Age Gender  Item ID  \\\n",
       "0            0        Lisim78   20   Male      108   \n",
       "1            1    Lisovynya38   40   Male      143   \n",
       "2            2     Ithergue48   24   Male       92   \n",
       "3            3  Chamassasya86   24   Male      100   \n",
       "4            4      Iskosia90   23   Male      131   \n",
       "\n",
       "                                   Item Name  Price  \n",
       "0  Extraction, Quickblade Of Trembling Hands   3.53  \n",
       "1                          Frenzied Scimitar   1.56  \n",
       "2                               Final Critic   4.88  \n",
       "3                                Blindscythe   3.27  \n",
       "4                                       Fury   1.44  "
      ]
     },
     "execution_count": 5,
     "metadata": {},
     "output_type": "execute_result"
    }
   ],
   "source": [
    "csv_path = \"Resources/02-Homework_04-Pandas_Instructions_HeroesOfPymoli_Resources_purchase_data.csv\"\n",
    "\n",
    "# Read the CSV into a Pandas DataFrame\n",
    "df = pd.read_csv(csv_path)\n",
    "\n",
    "# Print the first five rows of data to the screen\n",
    "df.head()"
   ]
  },
  {
   "cell_type": "code",
   "execution_count": 42,
   "id": "ce587bd9",
   "metadata": {},
   "outputs": [
    {
     "name": "stdout",
     "output_type": "stream",
     "text": [
      "Total Unique Players: 576\n",
      "Total Players: 780\n"
     ]
    }
   ],
   "source": [
    "n = len(pd.unique(df['SN']))\n",
    "print(\"Total Unique Players:\", n)\n",
    "m = len((df['SN']))\n",
    "print(\"Total Players:\", m)"
   ]
  },
  {
   "cell_type": "code",
   "execution_count": 52,
   "id": "916bacea",
   "metadata": {},
   "outputs": [],
   "source": [
    "unique_items = len(pd.unique(df['Item Name']))\n",
    "mean_price = df[\"Price\"].mean()\n",
    "total_purc = len((df['Purchase ID']))\n",
    "total_rev = df[\"Price\"].sum()"
   ]
  },
  {
   "cell_type": "code",
   "execution_count": 72,
   "id": "323b8b43",
   "metadata": {},
   "outputs": [
    {
     "name": "stdout",
     "output_type": "stream",
     "text": [
      "   Number of Unique Items Average Price  Number of Purchases Total Revenue\n",
      "0                     179         $3.05                  780     $2,379.77\n"
     ]
    }
   ],
   "source": [
    "Summary_table = {\n",
    "                 \"Number of Unique Items\":[unique_items], \n",
    "                 \"Average Price\": [mean_price], \n",
    "                 \"Number of Purchases\": [total_purc], \n",
    "                 \"Total Revenue\":[total_rev]\n",
    "                }\n",
    "Summary_table_df = pd.DataFrame(Summary_table)\n",
    "Summary_table_df['Average Price'] = Summary_table_df['Average Price'].map('${:,.2f}'.format)\n",
    "Summary_table_df['Total Revenue'] = Summary_table_df['Total Revenue'].map('${:,.2f}'.format)\n",
    "print(Summary_table_df)"
   ]
  },
  {
   "cell_type": "code",
   "execution_count": 94,
   "id": "909e1a4c",
   "metadata": {},
   "outputs": [
    {
     "name": "stdout",
     "output_type": "stream",
     "text": [
      "                       Total Count Percentage of Players\n",
      "Male                           652                83.59%\n",
      "Female                         113                14.49%\n",
      "Other / Non-Disclosed           15                 1.92%\n"
     ]
    }
   ],
   "source": [
    "\n",
    "gender_counts_df = df[\"Gender\"].value_counts()\n",
    "gender_counts = df[\"Gender\"].value_counts()\n",
    "PercentageCounts = (gender_counts / total_purc)\n",
    "PercentageCounts_df = {\n",
    "                        \"Total Count\": gender_counts, \n",
    "                         \"Percentage of Players\": PercentageCounts\n",
    "                      }\n",
    "PercentageCounts_df= pd.DataFrame(PercentageCounts_df)\n",
    "PercentageCounts_df['Percentage of Players'] = PercentageCounts_df['Percentage of Players'].map(\"{:.2%}\".format)\n",
    "print(PercentageCounts_df)\n"
   ]
  },
  {
   "cell_type": "code",
   "execution_count": null,
   "id": "962a373b",
   "metadata": {},
   "outputs": [],
   "source": [
    "## That doesn't work ^^ need to get unique SN first then operate on gender analysis"
   ]
  }
 ],
 "metadata": {
  "kernelspec": {
   "display_name": "Python 3",
   "language": "python",
   "name": "python3"
  },
  "language_info": {
   "codemirror_mode": {
    "name": "ipython",
    "version": 3
   },
   "file_extension": ".py",
   "mimetype": "text/x-python",
   "name": "python",
   "nbconvert_exporter": "python",
   "pygments_lexer": "ipython3",
   "version": "3.7.10"
  }
 },
 "nbformat": 4,
 "nbformat_minor": 5
}
